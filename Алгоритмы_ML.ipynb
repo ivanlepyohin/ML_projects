{
  "nbformat": 4,
  "nbformat_minor": 0,
  "metadata": {
    "colab": {
      "provenance": []
    },
    "kernelspec": {
      "name": "python3",
      "display_name": "Python 3"
    },
    "language_info": {
      "name": "python"
    }
  },
  "cells": [
    {
      "cell_type": "markdown",
      "source": [
        "Линейная регрессия"
      ],
      "metadata": {
        "id": "_TuRTcuHZIqW"
      }
    },
    {
      "cell_type": "code",
      "source": [
        "import random\n",
        "import numpy as np"
      ],
      "metadata": {
        "id": "jLAmT8lVZ8y4"
      },
      "execution_count": null,
      "outputs": []
    },
    {
      "cell_type": "code",
      "source": [
        "# Функция для вычисления предсказания модели\n",
        "def predict(x, w, b):\n",
        "    return w * x + b\n",
        "\n",
        "# Функция для вычисления среднеквадратичной ошибки (MSE)\n",
        "def compute_cost(x, y, w, b):\n",
        "    m = len(x)\n",
        "    total_cost = 0\n",
        "    for i in range(m):\n",
        "        total_cost += (predict(x[i], w, b) - y[i]) ** 2\n",
        "    return total_cost / (2 * m)\n",
        "\n",
        "# Функция для обновления параметров w и b с помощью градиентного спуска\n",
        "def gradient_descent(x, y, w, b, learning_rate, num_iterations):\n",
        "    m = len(x)\n",
        "    for _ in range(num_iterations):\n",
        "        dw = 0\n",
        "        db = 0\n",
        "        for i in range(m):\n",
        "            prediction = predict(x[i], w, b)\n",
        "            dw += (prediction - y[i]) * x[i]\n",
        "            db += (prediction - y[i])\n",
        "        dw /= m\n",
        "        db /= m\n",
        "        w -= learning_rate * dw\n",
        "        b -= learning_rate * db\n",
        "    return w, b\n",
        "\n",
        "# Пример данных\n",
        "x = [1, 2, 3, 4, 5]  # Признаки\n",
        "y = [2, 4, 5, 4, 5]  # Целевые значения\n",
        "\n",
        "# Инициализация параметров\n",
        "w = random.random()\n",
        "b = random.random()\n",
        "\n",
        "# Гиперпараметры\n",
        "learning_rate = 0.01\n",
        "num_iterations = 1000\n",
        "\n",
        "# Обучение модели\n",
        "w, b = gradient_descent(x, y, w, b, learning_rate, num_iterations)\n",
        "\n",
        "# Вывод результатов\n",
        "print(f\"Обученные параметры: w = {w}, b = {b}\")\n",
        "\n",
        "# Предсказание на новых данных\n",
        "new_x = 6\n",
        "predicted_y = predict(new_x, w, b)\n",
        "print(f\"Предсказание для x = {new_x}: y = {predicted_y}\")"
      ],
      "metadata": {
        "colab": {
          "base_uri": "https://localhost:8080/"
        },
        "id": "UcpukMelZNmK",
        "outputId": "13c6c6b3-b241-4b65-bdb1-3c568b4dce40"
      },
      "execution_count": null,
      "outputs": [
        {
          "output_type": "stream",
          "name": "stdout",
          "text": [
            "Обученные параметры: w = 0.6896881021311233, b = 1.876197493425944\n",
            "Предсказание для x = 6: y = 6.014326106212684\n"
          ]
        }
      ]
    },
    {
      "cell_type": "code",
      "source": [
        "class LinearRegression:\n",
        "    def __init__(self, learning_rate=0.01, num_iterations=1000):\n",
        "        self.learning_rate = learning_rate\n",
        "        self.num_iterations = num_iterations\n",
        "        self.weights = None\n",
        "        self.bias = None\n",
        "\n",
        "    def fit(self, X, y):\n",
        "        # Инициализация параметров\n",
        "        n_samples, n_features = X.shape\n",
        "        self.weights = np.zeros(n_features)\n",
        "        self.bias = 0\n",
        "\n",
        "        # Градиентный спуск\n",
        "        for _ in range(self.num_iterations):\n",
        "            # Предсказание\n",
        "            y_pred = np.dot(X, self.weights) + self.bias\n",
        "\n",
        "            # Вычисление градиентов\n",
        "            dw = (1 / n_samples) * np.dot(X.T, (y_pred - y))\n",
        "            db = (1 / n_samples) * np.sum(y_pred - y)\n",
        "\n",
        "            # Обновление параметров\n",
        "            self.weights -= self.learning_rate * dw\n",
        "            self.bias -= self.learning_rate * db\n",
        "    def predict(self, X):\n",
        "        return np.dot(X, self.weights) + self.bias\n",
        "\n"
      ],
      "metadata": {
        "id": "tVkRK6dlZ355"
      },
      "execution_count": null,
      "outputs": []
    },
    {
      "cell_type": "code",
      "source": [
        "# Пример данных\n",
        "# X - матрица признаков (n_samples x n_features)\n",
        "# y - вектор целевых значений (n_samples)\n",
        "X = np.array([[1, 2, 2], [2, 3, 1], [3, 4, 7], [4, 5, 6], [5, 6, 1]])\n",
        "y = np.array([3, 5, 7, 9, 11])\n",
        "\n",
        "# Создание и обучение модели\n",
        "model = LinearRegression(learning_rate=0.01, num_iterations=1000)\n",
        "model.fit(X, y)\n",
        "\n",
        "# Вывод обученных параметров\n",
        "print(\"Обученные веса:\", model.weights)\n",
        "print(\"Обученное смещение:\", model.bias)\n",
        "\n",
        "# Предсказание на новых данных\n",
        "new_X = np.array([[6, 7, 2], [7, 8, 7]])\n",
        "predictions = model.predict(new_X)\n",
        "print(\"Предсказания для новых данных:\", predictions)"
      ],
      "metadata": {
        "colab": {
          "base_uri": "https://localhost:8080/"
        },
        "id": "KAmolK5Tbs2b",
        "outputId": "8b73ee6c-e04d-4935-b94b-745c70d29371"
      },
      "execution_count": null,
      "outputs": [
        {
          "output_type": "stream",
          "name": "stdout",
          "text": [
            "[-0.00389338  0.00204178 -0.00039539]\n",
            "Обученные веса: [ 0.97859924  1.01122304 -0.00217333]\n",
            "Обученное смещение: 0.032623806418183555\n",
            "Предсказания для новых данных: [12.97843389 14.95738952]\n"
          ]
        }
      ]
    },
    {
      "cell_type": "code",
      "source": [
        "print(X)\n",
        "print(X.T)"
      ],
      "metadata": {
        "colab": {
          "base_uri": "https://localhost:8080/"
        },
        "id": "S-KFNxAray8c",
        "outputId": "0a971b54-7f20-4ae2-c095-de5576233c49"
      },
      "execution_count": null,
      "outputs": [
        {
          "output_type": "stream",
          "name": "stdout",
          "text": [
            "[[1 2 2]\n",
            " [2 3 1]\n",
            " [3 4 7]\n",
            " [4 5 6]\n",
            " [5 6 1]]\n",
            "[[1 2 3 4 5]\n",
            " [2 3 4 5 6]\n",
            " [2 1 7 6 1]]\n"
          ]
        }
      ]
    },
    {
      "cell_type": "code",
      "source": [
        "weights = np.zeros(3)\n",
        "bias = 0"
      ],
      "metadata": {
        "id": "tf5DmIU3k3OS"
      },
      "execution_count": null,
      "outputs": []
    },
    {
      "cell_type": "code",
      "source": [
        "y_pred = np.dot(X,weights.T) + bias\n",
        "y_pred"
      ],
      "metadata": {
        "colab": {
          "base_uri": "https://localhost:8080/"
        },
        "id": "NtQKLjYckzqf",
        "outputId": "3986a56d-82fb-45bb-8f8f-d4c5e04a5ccf"
      },
      "execution_count": null,
      "outputs": [
        {
          "output_type": "execute_result",
          "data": {
            "text/plain": [
              "array([0., 0., 0., 0., 0.])"
            ]
          },
          "metadata": {},
          "execution_count": 33
        }
      ]
    },
    {
      "cell_type": "markdown",
      "source": [
        "**Логистическая регрессия **"
      ],
      "metadata": {
        "id": "Ce9WtIkttbdS"
      }
    },
    {
      "cell_type": "code",
      "source": [
        "class LogisticRegression:\n",
        "    def __init__(self, learning_rate=0.01, num_iterations=1000):\n",
        "        self.learning_rate = learning_rate\n",
        "        self.num_iterations = num_iterations\n",
        "        self.weights = None\n",
        "        self.bias = None\n",
        "\n",
        "    def _sigmoid(self, z):\n",
        "        \"\"\"Сигмоидная функция.\"\"\"\n",
        "        return 1 / (1 + np.exp(-z))\n",
        "\n",
        "    def _compute_loss(self, y, y_pred):\n",
        "        \"\"\"Вычисление функции потерь (Log Loss).\"\"\"\n",
        "        return -np.mean(y * np.log(y_pred) + (1 - y) * np.log(1 - y_pred))\n",
        "\n",
        "    def fit(self, X, y):\n",
        "        \"\"\"Обучение модели.\"\"\"\n",
        "        n_samples, n_features = X.shape\n",
        "\n",
        "        # Инициализация параметров\n",
        "        self.weights = np.zeros(n_features)\n",
        "        self.bias = 0\n",
        "\n",
        "        # Градиентный спуск\n",
        "        for _ in range(self.num_iterations):\n",
        "            # Линейная комбинация\n",
        "            z = np.dot(X, self.weights) + self.bias\n",
        "            # Предсказанные вероятности\n",
        "            y_pred = self._sigmoid(z)\n",
        "\n",
        "            # Градиенты\n",
        "            dw = (1 / n_samples) * np.dot(X.T, (y_pred - y))\n",
        "            db = (1 / n_samples) * np.sum(y_pred - y)\n",
        "\n",
        "            # Обновление параметров\n",
        "            self.weights -= self.learning_rate * dw\n",
        "            self.bias -= self.learning_rate * db\n",
        "\n",
        "    def predict_proba(self, X):\n",
        "        \"\"\"Предсказание вероятностей.\"\"\"\n",
        "        z = np.dot(X, self.weights) + self.bias\n",
        "        return self._sigmoid(z)\n",
        "\n",
        "    def predict(self, X, threshold=0.5):\n",
        "        \"\"\"Предсказание классов.\"\"\"\n",
        "        probabilities = self.predict_proba(X)\n",
        "        return (probabilities >= threshold).astype(int)\n",
        "\n",
        "# Пример использования\n",
        "if __name__ == \"__main__\":\n",
        "    # Пример данных\n",
        "    X = np.array([[1, 2], [2, 3], [3, 4], [4, 5], [5, 6]])\n",
        "    y = np.array([0, 0, 1, 1, 1])\n",
        "\n",
        "    # Создание и обучение модели\n",
        "    model = LogisticRegression(learning_rate=0.1, num_iterations=1000)\n",
        "    model.fit(X, y)\n",
        "\n",
        "    # Предсказание\n",
        "    predictions = model.predict(X)\n",
        "    print(\"Предсказанные классы:\", predictions)"
      ],
      "metadata": {
        "colab": {
          "base_uri": "https://localhost:8080/"
        },
        "id": "t3IsbvoBtg8D",
        "outputId": "36b41438-b80a-4c62-e6c0-f2584ac9406c"
      },
      "execution_count": null,
      "outputs": [
        {
          "output_type": "stream",
          "name": "stdout",
          "text": [
            "Предсказанные классы: [0 0 1 1 1]\n"
          ]
        }
      ]
    },
    {
      "cell_type": "markdown",
      "source": [
        "Алгоритм KNN"
      ],
      "metadata": {
        "id": "RNDTT7neufom"
      }
    },
    {
      "cell_type": "code",
      "source": [
        "import numpy as np\n",
        "import matplotlib.pyplot as plt\n",
        "from sklearn.datasets import make_classification\n",
        "from sklearn.model_selection import train_test_split\n",
        "from sklearn.metrics import accuracy_score\n",
        "\n",
        "class KNN:\n",
        "    def __init__(self, k=3):\n",
        "        self.k = k\n",
        "\n",
        "    def fit(self, X_train, y_train):\n",
        "        \"\"\"Сохраняем обучающие данные.\"\"\"\n",
        "        self.X_train = X_train\n",
        "        self.y_train = y_train\n",
        "\n",
        "    def _euclidean_distance(self, x1, x2):\n",
        "        \"\"\"Вычисление евклидова расстояния между двумя точками.\"\"\"\n",
        "        return np.sqrt(np.sum((x1 - x2) ** 2))\n",
        "\n",
        "    def predict(self, X_test):\n",
        "        \"\"\"Предсказание для тестовых данных.\"\"\"\n",
        "        predictions = []\n",
        "        for x in X_test:\n",
        "            # Вычисляем расстояния до всех объектов обучающей выборки\n",
        "            distances = [self._euclidean_distance(x, x_train) for x_train in self.X_train]\n",
        "            # Находим индексы k ближайших соседей\n",
        "            k_indices = np.argsort(distances)[:self.k]\n",
        "            # Берем классы k ближайших соседей\n",
        "            k_nearest_labels = [self.y_train[i] for i in k_indices]\n",
        "            # Выбираем наиболее часто встречающийся класс\n",
        "            most_common = np.bincount(k_nearest_labels).argmax()\n",
        "            predictions.append(most_common)\n",
        "        return np.array(predictions)\n",
        "\n",
        "# Создание синтетических данных\n",
        "X, y = make_classification(n_samples=200, n_features=2, n_informative=2, n_redundant=0, n_clusters_per_class=1, random_state=42)\n",
        "X_train, X_test, y_train, y_test = train_test_split(X, y, test_size=0.3, random_state=42)\n",
        "\n",
        "# Создание и обучение модели KNN\n",
        "knn = KNN(k=5)\n",
        "knn.fit(X_train, y_train)\n",
        "\n",
        "# Предсказание на тестовых данных\n",
        "y_pred = knn.predict(X_test)\n",
        "\n",
        "# Оценка точности\n",
        "accuracy = accuracy_score(y_test, y_pred)\n",
        "print(f\"Точность модели: {accuracy * 100:.2f}%\")\n",
        "\n",
        "# Визуализация данных и предсказаний\n",
        "def plot_decision_boundary(X, y, model):\n",
        "    \"\"\"Отрисовка границы решения.\"\"\"\n",
        "    x_min, x_max = X[:, 0].min() - 1, X[:, 0].max() + 1\n",
        "    y_min, y_max = X[:, 1].min() - 1, X[:, 1].max() + 1\n",
        "    xx, yy = np.meshgrid(np.arange(x_min, x_max, 0.01),\n",
        "                         np.arange(y_min, y_max, 0.01))\n",
        "    grid = np.c_[xx.ravel(), yy.ravel()]\n",
        "    Z = model.predict(grid)\n",
        "    Z = Z.reshape(xx.shape)\n",
        "    plt.contourf(xx, yy, Z, alpha=0.8)\n",
        "    plt.scatter(X[:, 0], X[:, 1], c=y, edgecolors='k', marker='o')\n",
        "    plt.title(f\"KNN (k={model.k}), Точность: {accuracy * 100:.2f}%\")\n",
        "    plt.show()\n",
        "\n",
        "# Отрисовка границы решения\n",
        "plot_decision_boundary(X_test, y_test, knn)"
      ],
      "metadata": {
        "colab": {
          "base_uri": "https://localhost:8080/",
          "height": 469
        },
        "id": "lKcglOOEui-z",
        "outputId": "3342ab5c-0130-475d-cb07-cb2ee6fa6470"
      },
      "execution_count": null,
      "outputs": [
        {
          "output_type": "stream",
          "name": "stdout",
          "text": [
            "Точность модели: 80.00%\n"
          ]
        },
        {
          "output_type": "display_data",
          "data": {
            "text/plain": [
              "<Figure size 640x480 with 1 Axes>"
            ],
            "image/png": "[encoded data removed]"
          },
          "metadata": {}
        }
      ]
    },
    {
      "cell_type": "markdown",
      "source": [
        "Наивный Байесовский классификатор"
      ],
      "metadata": {
        "id": "mYpEpHc9w33B"
      }
    },
    {
      "cell_type": "code",
      "source": [
        "import numpy as np\n",
        "from sklearn.datasets import make_classification\n",
        "from sklearn.model_selection import train_test_split\n",
        "from sklearn.metrics import accuracy_score\n",
        "\n",
        "class NaiveBayes:\n",
        "    def __init__(self):\n",
        "        self.class_probs = None  # Априорные вероятности классов\n",
        "        self.feature_probs = None  # Условные вероятности признаков\n",
        "\n",
        "    def fit(self, X, y):\n",
        "        \"\"\"Обучение модели.\"\"\"\n",
        "        n_samples, n_features = X.shape\n",
        "        self.classes = np.unique(y)\n",
        "        n_classes = len(self.classes)\n",
        "\n",
        "        # Вычисление априорных вероятностей классов\n",
        "        self.class_probs = np.zeros(n_classes)\n",
        "        for i, c in enumerate(self.classes):\n",
        "            self.class_probs[i] = np.sum(y == c) / n_samples\n",
        "\n",
        "        # Вычисление условных вероятностей признаков\n",
        "        self.feature_probs = []\n",
        "        for i, c in enumerate(self.classes):\n",
        "            X_c = X[y == c]  # Данные для текущего класса\n",
        "            feature_prob = []\n",
        "            for j in range(n_features):\n",
        "                # Вычисляем среднее и стандартное отклонение для каждого признака\n",
        "                mean = np.mean(X_c[:, j])\n",
        "                std = np.std(X_c[:, j])\n",
        "                feature_prob.append((mean, std))\n",
        "            self.feature_probs.append(feature_prob)\n",
        "\n",
        "    def _calculate_likelihood(self, x, mean, std):\n",
        "        \"\"\"Вычисление правдоподобия с использованием нормального распределения.\"\"\"\n",
        "        exponent = np.exp(-((x - mean) ** 2) / (2 * std ** 2))\n",
        "        return (1 / (np.sqrt(2 * np.pi) * std)) * exponent\n",
        "\n",
        "    def predict(self, X):\n",
        "        \"\"\"Предсказание классов для новых данных.\"\"\"\n",
        "        n_samples, n_features = X.shape\n",
        "        n_classes = len(self.classes)\n",
        "        predictions = []\n",
        "\n",
        "        for x in X:\n",
        "            posteriors = []\n",
        "            for i, c in enumerate(self.classes):\n",
        "                # Начинаем с априорной вероятности класса\n",
        "                posterior = np.log(self.class_probs[i])\n",
        "                for j in range(n_features):\n",
        "                    mean, std = self.feature_probs[i][j]\n",
        "                    # Добавляем логарифм правдоподобия\n",
        "                    posterior += np.log(self._calculate_likelihood(x[j], mean, std))\n",
        "                posteriors.append(posterior)\n",
        "            # Выбираем класс с наибольшей апостериорной вероятностью\n",
        "            predictions.append(self.classes[np.argmax(posteriors)])\n",
        "        return np.array(predictions)\n",
        "\n",
        "# Создание синтетических данных\n",
        "X, y = make_classification(n_samples=200, n_features=2, n_informative=2, n_redundant=0, n_clusters_per_class=1, random_state=42)\n",
        "X_train, X_test, y_train, y_test = train_test_split(X, y, test_size=0.3, random_state=42)\n",
        "\n",
        "# Создание и обучение модели\n",
        "nb = NaiveBayes()\n",
        "nb.fit(X_train, y_train)\n",
        "\n",
        "# Предсказание на тестовых данных\n",
        "y_pred = nb.predict(X_test)\n",
        "\n",
        "# Оценка точности\n",
        "accuracy = accuracy_score(y_test, y_pred)\n",
        "print(f\"Точность модели: {accuracy * 100:.2f}%\")\n",
        "\n",
        "# Визуализация данных и предсказаний\n",
        "def plot_decision_boundary(X, y, model):\n",
        "    \"\"\"Отрисовка границы решения.\"\"\"\n",
        "    x_min, x_max = X[:, 0].min() - 1, X[:, 0].max() + 1\n",
        "    y_min, y_max = X[:, 1].min() - 1, X[:, 1].max() + 1\n",
        "    xx, yy = np.meshgrid(np.arange(x_min, x_max, 0.01),\n",
        "                         np.arange(y_min, y_max, 0.01))\n",
        "    grid = np.c_[xx.ravel(), yy.ravel()]\n",
        "    Z = model.predict(grid)\n",
        "    Z = Z.reshape(xx.shape)\n",
        "    plt.contourf(xx, yy, Z, alpha=0.8)\n",
        "    plt.scatter(X[:, 0], X[:, 1], c=y, edgecolors='k', marker='o')\n",
        "    plt.title(f\"Наивный Байес, Точность: {accuracy * 100:.2f}%\")\n",
        "    plt.show()\n",
        "\n",
        "# Отрисовка границы решения\n",
        "plot_decision_boundary(X_test, y_test, nb)"
      ],
      "metadata": {
        "id": "th2-4XMHw8yR"
      },
      "execution_count": null,
      "outputs": []
    }
  ]
}